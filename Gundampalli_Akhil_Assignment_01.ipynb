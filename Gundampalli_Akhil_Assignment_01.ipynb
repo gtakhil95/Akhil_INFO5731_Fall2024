{
  "cells": [
    {
      "cell_type": "markdown",
      "metadata": {
        "id": "view-in-github",
        "colab_type": "text"
      },
      "source": [
        "<a href=\"https://colab.research.google.com/github/gtakhil95/Akhil_INFO5731_Fall2024/blob/main/Gundampalli_Akhil_Assignment_01.ipynb\" target=\"_parent\"><img src=\"https://colab.research.google.com/assets/colab-badge.svg\" alt=\"Open In Colab\"/></a>"
      ]
    },
    {
      "cell_type": "markdown",
      "metadata": {
        "id": "Ryk8D1Q4Wsrp"
      },
      "source": [
        "# **INFO5731 Assignment One**"
      ]
    },
    {
      "cell_type": "markdown",
      "source": [
        "This assignment includes range of programming tasks and data analysis exercises, aiming to enhance your Python skills and proficiency in string manipulation, numerical computations, and data science. Follow the instructions carefully and design well-structured Python programs to address each question.\n",
        "\n",
        "Late Submission will have a penalty of 10% reduction for each day after the deadline."
      ],
      "metadata": {
        "id": "qcP6re2g5A5r"
      }
    },
    {
      "cell_type": "markdown",
      "metadata": {
        "id": "JkzR8cFAyGik"
      },
      "source": [
        "# Question 1 (10 points).\n",
        "\n",
        "The formula that describes the volume V of a hemisphere with radius r is the following:\n",
        "\n",
        "$ V=\\frac{2}{3}\\ast\\ \\pi\\ast\\ r^3 $\n",
        "\n",
        "Write a program to calculate the value of V when r is in the range of even numbers from 1-20. Output the result in the following format:\n",
        "\n",
        "\tr\tV\n",
        "\t2\t…\n",
        "\t4\t…\n",
        "\t6\t…\n",
        "\t.\n",
        "\t.\n",
        "\t.\n",
        "\t20\t…\n"
      ]
    },
    {
      "cell_type": "code",
      "execution_count": 3,
      "metadata": {
        "id": "jDyTKYs-yGit",
        "colab": {
          "base_uri": "https://localhost:8080/"
        },
        "outputId": "1714f6e0-c7e8-4475-bc6b-8c3a74ea5202"
      },
      "outputs": [
        {
          "output_type": "stream",
          "name": "stdout",
          "text": [
            "r    V         \n",
            "2    16.755    \n",
            "4    134.041   \n",
            "6    452.389   \n",
            "8    1072.330  \n",
            "10   2094.395  \n",
            "12   3619.115  \n",
            "14   5747.020  \n",
            "16   8578.642  \n",
            "18   12214.512 \n",
            "20   16755.161 \n"
          ]
        }
      ],
      "source": [
        "import math\n",
        "# math allows us to use mathematical constants like pi\n",
        "print(f'{\"r\":<5}{\"V\":<10}')\n",
        "# sets the table with column names r and V\n",
        "for r in range(2, 21, 2):\n",
        "  # formula\n",
        "    V = (2/3) * math.pi * r ** 3\n",
        "    print(f'{r:<5}{V:<10.3f}')\n"
      ]
    },
    {
      "cell_type": "markdown",
      "metadata": {
        "id": "90_NR8c5XGWc"
      },
      "source": [
        "# Question 2 (20 points)\n",
        "\n",
        "(a) Write a Python program to generate a sequence of 12 random numbers falling within the range of 50 to 150.\n",
        "\n",
        "(b) Arrange the generated numbers in ascending order. Display the sorted list.\n",
        "\n",
        "(c) Extend the program to arrange the numbers in descending order as well. Present the sorted list accordingly.\n",
        "\n",
        "(d) Compute and output the average of the entire group of generated numbers.\n",
        "\n",
        "(e) Enhance the program to calculate and display the average of the first 6 numbers from both the ascending and descending sorted lists."
      ]
    },
    {
      "cell_type": "code",
      "execution_count": 6,
      "metadata": {
        "id": "5QX6bJjGWXY9",
        "colab": {
          "base_uri": "https://localhost:8080/"
        },
        "outputId": "7a21c838-1a9d-4d96-d7cb-dbe96f35cdbb"
      },
      "outputs": [
        {
          "output_type": "stream",
          "name": "stdout",
          "text": [
            "(a) 12 Random numbers within 50 to 150: [67, 121, 138, 140, 138, 104, 112, 120, 102, 84, 81, 99]\n",
            "(b) Ascending order: [67, 81, 84, 99, 102, 104, 112, 120, 121, 138, 138, 140]\n",
            "(c) Descending order: [140, 138, 138, 121, 120, 112, 104, 102, 99, 84, 81, 67]\n",
            "(d) Average of all numbers: 108.83\n",
            "\n",
            "(e) Averages of the first 6 numbers:\n",
            "Average of first 6 numbers (ascending): 89.50\n",
            "Average of first 6 numbers (descending): 128.17\n"
          ]
        }
      ],
      "source": [
        "import random\n",
        "\n",
        "#(a)\n",
        "# Generate a sequence of 12 random within the range of 50 and 150\n",
        "random_numbers = [random.randint(50, 150) for _ in range(12)]\n",
        "print(\"(a) 12 Random numbers within 50 to 150:\", random_numbers)\n",
        "\n",
        "#(b)\n",
        "# This sorts the numbers in ascending order\n",
        "ascending_numbers = sorted(random_numbers)\n",
        "print(\"(b) Ascending order:\", ascending_numbers)\n",
        "\n",
        "#(c)\n",
        "# This sorts the numbers in descending order\n",
        "descending_numbers = sorted(random_numbers, reverse=True)\n",
        "print(\"(c) Descending order:\", descending_numbers)\n",
        "\n",
        "#(d)\n",
        "# This computes the average of the entire group of numbers\n",
        "average_all = sum(random_numbers) / len(random_numbers)\n",
        "print(f\"(d) Average of all numbers: {average_all:.2f}\")\n",
        "\n",
        "#(e)\n",
        "# This computes the average of the first 6 numbers from both sorted lists\n",
        "average_first_6_ascending = sum(ascending_numbers[:6]) / 6\n",
        "average_first_6_descending = sum(descending_numbers[:6]) / 6\n",
        "\n",
        "print(\"\\n(e) Averages of the first 6 numbers:\")\n",
        "print(f\"Average of first 6 numbers (ascending): {average_first_6_ascending:.2f}\")\n",
        "print(f\"Average of first 6 numbers (descending): {average_first_6_descending:.2f}\")\n",
        "\n",
        "\n"
      ]
    },
    {
      "cell_type": "markdown",
      "metadata": {
        "id": "1F_PZdH9Sh49"
      },
      "source": [
        "# Question 3 (20 points).\n",
        "\n",
        "Create a Python program that encompasses various string manipulation task:\n",
        "\n",
        "(a) Prompt the user to input two sentences.\n",
        "\n",
        "(b) Transform each sentence into a list, where each element corresponds to a word in the sentence. For example, if the sentences are \"Hello, how are you doing today?\" and \"This is an example sentence for the program!\"\n",
        "\n",
        "The program should output:\n",
        "['Hello', ',', 'how', 'are', 'you', 'doing', 'today', '?', 'This', 'is', 'an', 'example', 'sentence', 'for', 'the', 'program', '!']\n",
        "\n",
        "(c) Compare the two sentences. Print out a list of words that occur in both sentences.\n",
        "\n",
        "(d) Remove any punctuation from the sentence and print the sanitized sentences. It should remove at least the following characters, but it can remove more: period(“.”), comma (“,”), semicolon (“;”), and colon (“:”).\n",
        "\n",
        "(e) Count the number of vowels in each of the sentences. Print out each vowel and the occurrences  in the each of the two sentences separately, such as:\n",
        "\n",
        "Sentence1: a:2, e:2, i:0, etc.\n",
        "Sentence2: a:1, e:2, i:2, etc.\n",
        "\n",
        "Design a well-structured Python program to execute these tasks efficiently."
      ]
    },
    {
      "cell_type": "markdown",
      "source": [],
      "metadata": {
        "id": "fE1pQSK5vHTR"
      }
    },
    {
      "cell_type": "code",
      "execution_count": 9,
      "metadata": {
        "id": "Y0oOSlsOS0cq",
        "colab": {
          "base_uri": "https://localhost:8080/"
        },
        "outputId": "439af327-dd0a-49c1-e20d-361df2223d4f"
      },
      "outputs": [
        {
          "output_type": "stream",
          "name": "stdout",
          "text": [
            "(a) Enter two sentences:\n",
            "Enter the first sentence: My name is \"Akhil Gundampalli\"\n",
            "Enter the second sentence: This is an Assignment!\n",
            "\n",
            "(b) List of words in each sentence:\n",
            "List of words: ['My', 'name', 'is', '\"Akhil', 'Gundampalli\"', 'This', 'is', 'an', 'Assignment!']\n",
            "\n",
            "(c) Common words in both sentences:\n",
            "Common words: {'is'}\n",
            "\n",
            "(d) Sanitized sentences:\n",
            "Sanitized sentence 1: My name is Akhil Gundampalli\n",
            "Sanitized sentence 2: This is an Assignment\n",
            "\n",
            "(e) Number of vowels in each sentence:\n",
            "Vowel counts for sentence 1:\n",
            "a: 4\n",
            "e: 1\n",
            "i: 3\n",
            "o: 0\n",
            "u: 1\n",
            "Vowel counts for sentence 2:\n",
            "a: 2\n",
            "e: 1\n",
            "i: 3\n",
            "o: 0\n",
            "u: 0\n"
          ]
        }
      ],
      "source": [
        "import string\n",
        "\n",
        "# Counting vowels\n",
        "def count_vowels(sentence):\n",
        "    vowels = \"aeiou\"\n",
        "    vowel_count = {v: 0 for v in vowels}\n",
        "    for char in sentence.lower():\n",
        "        if char in vowels:\n",
        "            vowel_count[char] += 1\n",
        "    return vowel_count\n",
        "\n",
        "# Removing punctuations\n",
        "def remove_punctuation(sentence):\n",
        "    return sentence.translate(str.maketrans(\"\", \"\", string.punctuation))\n",
        "\n",
        "# (a)\n",
        "#Prompt the user to input two sentences\n",
        "print(\"(a) Enter two sentences:\")\n",
        "sentence1 = input(\"Enter the first sentence: \")\n",
        "sentence2 = input(\"Enter the second sentence: \")\n",
        "\n",
        "# (b)\n",
        "#Transform each sentence into a list of words\n",
        "print(\"\\n(b) List of words in each sentence:\")\n",
        "sentence_combined = sentence1.split() + sentence2.split()\n",
        "print(\"List of words:\", sentence_combined)\n",
        "\n",
        "# (c)\n",
        "#Compare the two sentences and print the common words\n",
        "print(\"\\n(c) Common words in both sentences:\")\n",
        "words1 = set(sentence1.split())\n",
        "words2 = set(sentence2.split())\n",
        "common_words = words1.intersection(words2)\n",
        "print(\"Common words:\", common_words)\n",
        "\n",
        "# (d)\n",
        "#Remove punctuation from each sentence and print sanitized sentences\n",
        "print(\"\\n(d) Sanitized sentences:\")\n",
        "sanitized_sentence1 = remove_punctuation(sentence1)\n",
        "sanitized_sentence2 = remove_punctuation(sentence2)\n",
        "print(\"Sanitized sentence 1:\", sanitized_sentence1)\n",
        "print(\"Sanitized sentence 2:\", sanitized_sentence2)\n",
        "\n",
        "# (e)\n",
        "#Count the number of vowels in each sentence\n",
        "print(\"\\n(e) Number of vowels in each sentence:\")\n",
        "vowel_count1 = count_vowels(sanitized_sentence1)\n",
        "vowel_count2 = count_vowels(sanitized_sentence2)\n",
        "\n",
        "# Displaying the vowel counts for each sentence\n",
        "print(\"Vowel counts for sentence 1:\")\n",
        "for vowel, count in vowel_count1.items():\n",
        "    print(f\"{vowel}: {count}\")\n",
        "\n",
        "print(\"Vowel counts for sentence 2:\")\n",
        "for vowel, count in vowel_count2.items():\n",
        "    print(f\"{vowel}: {count}\")\n",
        "\n",
        "\n"
      ]
    },
    {
      "cell_type": "markdown",
      "source": [
        "# Question 4 (20 Points)"
      ],
      "metadata": {
        "id": "OP4-5qxAtInv"
      }
    },
    {
      "cell_type": "markdown",
      "source": [
        "Design and implement a simple command-line calculator program. The program should handle both integers and floating-point numbers.\n",
        "\n",
        "(a) Write program that takes a mathematical expression as input and evaluates it. The program should support addition, subtraction, multiplication, and division.\n",
        "\n",
        "(b) Extend the calculator to handle parentheses in mathematical expressions. Implement the necessary logic to evaluate expressions with nested parentheses.\n",
        "\n",
        "(c) Enhance your calculator to include additional mathematical operations such as exponentiation, square root, and modulus.\n",
        "\n",
        "(d) Implement error handling in the calculator program. Handle cases such as division by zero and invalid input expressions. Provide meaningful error messages.\n",
        "\n",
        "(e) Implement a command to exit the calculator."
      ],
      "metadata": {
        "id": "uzN4_hDptK9U"
      }
    },
    {
      "cell_type": "code",
      "source": [
        "import math\n",
        "\n",
        "def calculator():\n",
        "    print(\"This is simple command-line calculator\")\n",
        "    print(\"You can use + (addition), - (subtraction), * (multiplication), / (division)\")\n",
        "    print(\"You can use additional operations such as ** (exponentiation), sqrt() for square root\")\n",
        "    print(\"Type 'exit' to quit the calculator.\\n\")\n",
        "\n",
        "    while True:\n",
        "        try:\n",
        "            # (a) & (b) Input a mathematical expression from the user\n",
        "            expression = input(\"Enter a mathematical expression: \")\n",
        "\n",
        "            # (e) Command to exit the calculator\n",
        "            if expression.lower() == \"exit\":\n",
        "                print(\"Exiting the calculator!\")\n",
        "                break\n",
        "\n",
        "            # (c) Include additional operations like sqrt\n",
        "            expression = expression.replace(\"sqrt\", \"math.sqrt\")\n",
        "\n",
        "            # (d) Error handling for division by zero and invalid input expressions\n",
        "            try:\n",
        "                result = eval(expression)\n",
        "                print(f\"Result: {result}\\n\")\n",
        "            except ZeroDivisionError:\n",
        "                print(\"Error: Division by zero is not allowed.\\n\")\n",
        "            except NameError:\n",
        "                print(\"Error: Invalid input. Please enter a valid mathematical expression.\\n\")\n",
        "            except SyntaxError:\n",
        "                print(\"Error: Syntax error. Check the input format.\\n\")\n",
        "            except Exception as e:\n",
        "                print(f\"An error occurred: {e}\\n\")\n",
        "\n",
        "        except KeyboardInterrupt:\n",
        "            print(\"\\nExiting the calculator!\")\n",
        "            break\n",
        "\n",
        "if __name__ == \"__main__\":\n",
        "    calculator()\n"
      ],
      "metadata": {
        "id": "8nQnVxjJuYtu",
        "colab": {
          "base_uri": "https://localhost:8080/"
        },
        "outputId": "eda8994a-b7cc-470d-ab7b-cc0a6df6bac4"
      },
      "execution_count": 14,
      "outputs": [
        {
          "output_type": "stream",
          "name": "stdout",
          "text": [
            "This is simple command-line calculator\n",
            "You can use + (addition), - (subtraction), * (multiplication), / (division)\n",
            "You can use additional operations such as ** (exponentiation), sqrt() for square root\n",
            "Type 'exit' to quit the calculator.\n",
            "\n",
            "Enter a mathematical expression: 55+45\n",
            "Result: 100\n",
            "\n",
            "Enter a mathematical expression: 36599-1499\n",
            "Result: 35100\n",
            "\n",
            "Enter a mathematical expression: 88*11\n",
            "Result: 968\n",
            "\n",
            "Enter a mathematical expression: 88/11\n",
            "Result: 8.0\n",
            "\n",
            "Enter a mathematical expression: (34+45)*8/2-(56-3)*4/3\n",
            "Result: 245.33333333333331\n",
            "\n",
            "Enter a mathematical expression: 7**2\n",
            "Result: 49\n",
            "\n",
            "Enter a mathematical expression: sqrt(81)\n",
            "Result: 9.0\n",
            "\n",
            "Enter a mathematical expression: 89/0\n",
            "Error: Division by zero is not allowed.\n",
            "\n",
            "Enter a mathematical expression: 66**0\n",
            "Result: 1\n",
            "\n",
            "Enter a mathematical expression: **7\n",
            "Error: Syntax error. Check the input format.\n",
            "\n",
            "Enter a mathematical expression: 7*-8.8\n",
            "Result: -61.60000000000001\n",
            "\n",
            "Enter a mathematical expression: 8**\n",
            "Error: Syntax error. Check the input format.\n",
            "\n",
            "Enter a mathematical expression: exit\n",
            "Exiting the calculator!\n"
          ]
        }
      ]
    },
    {
      "cell_type": "markdown",
      "metadata": {
        "id": "z3tBE7E-Xn5X"
      },
      "source": [
        "# Question 5 (30 points).\n",
        "\n",
        "In the field of Data Science, data is often formatted as a comma-delimited (CSV) file, where each line in a file corresponds to a field's value. Refer to Chapter 9 (p. 106) for more information on comma-delimited files.\n",
        "\n",
        "To answer this question, you will need to download the file [Assignment1_denton_housing.csv](https://raw.githubusercontent.com/unt-iialab/info5731-spring2022/main/assignments/Assignment1_denton_housing.csv) included with this assignment. The file contains statistics about housing in the city of Denton from 2008 to 2014. Write a program to implement the following questions.\n",
        "\n",
        "(a) (5 pts) Calculate the difference in the number of Occupied Housing Units from year to year and print it. The difference must be calculated for the consecutive years such as 2008-2009, 2009-2010 etc. Finally, print the values in the ascending order.\n",
        "\n",
        "(b) (5 pts) For all the years, calculate the percentage of housing units which are vacant an occupied. Print the results in the following format:\n",
        "\n",
        "Year Vacant Housing Units Occupied Housing Units\n",
        "\n",
        "    2008  30%   70%                          \n",
        "\t2009 ----- -----\n",
        "\t2010 ----- -----\n",
        "    2011 ----- -----\n",
        "\t2012 ----- -----\n",
        "    2013 ----- -----\n",
        "\t2014 ----- -----\n",
        "  \n",
        "  \n",
        "\n",
        "(c) (10 pts) Calculate and print the valued and years in which the highest number of housing units were vacant and occupied. Print the results in the following format:  \n",
        "\n",
        "                              Year\tValue\n",
        "\tVacant Housing Units\t  -----   -----\n",
        "\tOccupied Housing Units\t-----   -----\n",
        "\n",
        "(d) (10 pts) Calculate the harmonic mean of the total housing units and print it out. You can find the information about harmonic mean here: https://ncalculators.com/statistics/harmonic-mean-calculator.htm"
      ]
    },
    {
      "cell_type": "code",
      "execution_count": 48,
      "metadata": {
        "id": "lqGYuHBhcsRH",
        "colab": {
          "base_uri": "https://localhost:8080/"
        },
        "outputId": "53115074-22fb-4fe2-e32f-dc8b5b89048a"
      },
      "outputs": [
        {
          "output_type": "stream",
          "name": "stdout",
          "text": [
            "(a) Difference in Occupied Housing Units from year to year:\n",
            "\n",
            "\n",
            "    year  difference\n",
            "17  2009      -795.0\n",
            "11  2011      -303.0\n",
            "8   2012      1404.0\n",
            "5   2013      1565.0\n",
            "2   2014      2622.0\n",
            "14  2010      5091.0\n"
          ]
        }
      ],
      "source": [
        "import pandas as pd\n",
        "# Data set is loaded as below\n",
        "df = pd.read_csv('/content/sample_data/Assignment1_denton_housing.csv')\n",
        "\n",
        "# Data is flitered for \"Occupied Housing Units\"\n",
        "occupied_housing_units = df[df['title_field'] == 'Occupied Housing Units'].sort_values('year')\n",
        "\n",
        "# The year-to-year differences is calculated\n",
        "occupied_housing_units['difference'] = occupied_housing_units['value'].diff()\n",
        "\n",
        "# Remove the NaN value for the first difference\n",
        "yearly_diff = occupied_housing_units[['year', 'difference']].dropna()\n",
        "\n",
        "# The differences in ascending order\n",
        "yearly_diff_sorted = yearly_diff.sort_values('difference')\n",
        "print(\"(a) Difference in Occupied Housing Units from year to year:\")\n",
        "print(\"\\n\")\n",
        "print(yearly_diff_sorted)\n",
        "\n",
        "\n",
        "\n"
      ]
    },
    {
      "cell_type": "code",
      "source": [
        "# Filter the data for \"Total Housing Units\", \"Vacant Housing Units\", and \"Occupied Housing Units\"\n",
        "vacant_housing_units = df[df['title_field'] == 'Vacant Housing Units'].sort_values('year')\n",
        "total_housing_units = df[df['title_field'] == 'Total Housing Units'].sort_values('year')\n",
        "\n",
        "# Merge the dataframes to get total, vacant, and occupied housing units together for each year\n",
        "housing_data = total_housing_units.merge(vacant_housing_units, on='year', suffixes=('_total', '_vacant'))\n",
        "housing_data = housing_data.merge(occupied_housing_units, on='year')\n",
        "\n",
        "# Calculate the percentage of vacant and occupied units\n",
        "housing_data['vacant_percentage'] = (housing_data['value_vacant'] / housing_data['value_total']) * 100\n",
        "housing_data['occupied_percentage'] = (housing_data['value'] / housing_data['value_total']) * 100\n",
        "\n",
        "# Select relevant columns for output\n",
        "housing_percentage = housing_data[['year', 'vacant_percentage', 'occupied_percentage']]\n",
        "print(\"(b) Percentage of Vacant and Occupied Housing Units:\")\n",
        "print(\"\\n\")\n",
        "print(housing_percentage)\n"
      ],
      "metadata": {
        "colab": {
          "base_uri": "https://localhost:8080/"
        },
        "id": "iSdIM677Fl7s",
        "outputId": "022efd23-751e-404e-f826-cc25fae82045"
      },
      "execution_count": 49,
      "outputs": [
        {
          "output_type": "stream",
          "name": "stdout",
          "text": [
            "(b) Percentage of Vacant and Occupied Housing Units:\n",
            "\n",
            "\n",
            "   year  vacant_percentage  occupied_percentage\n",
            "0  2008          10.882653            89.117347\n",
            "1  2009           9.071116            90.928884\n",
            "2  2010           8.142556            91.857444\n",
            "3  2011           9.379522            90.620478\n",
            "4  2012           6.677600            93.322400\n",
            "5  2013           8.801788            91.198212\n",
            "6  2014           5.730111            94.269889\n"
          ]
        }
      ]
    },
    {
      "cell_type": "code",
      "source": [
        "# Find the year and value for the highest number of vacant housing units\n",
        "max_vacant = vacant_housing_units.loc[vacant_housing_units['value'].idxmax(), ['year', 'value']]\n",
        "\n",
        "# Find the year and value for the highest number of occupied housing units\n",
        "max_occupied = occupied_housing_units.loc[occupied_housing_units['value'].idxmax(), ['year', 'value']]\n",
        "\n",
        "# Display the results in the desired format\n",
        "print(\"(c) Highest Number of Housing Units:\")\n",
        "print(\"\\n\")\n",
        "print(f\"{'':<30}{'Year':<10}{'Value'}\")\n",
        "print(f\"Vacant Housing Units{'':<10}{int(max_vacant['year']):<10}{int(max_vacant['value'])}\")\n",
        "print(f\"Occupied Housing Units{'':<8}{int(max_occupied['year']):<10}{int(max_occupied['value'])}\")\n",
        "\n"
      ],
      "metadata": {
        "colab": {
          "base_uri": "https://localhost:8080/"
        },
        "id": "M_XztR0DFs4l",
        "outputId": "7a6373cf-d533-4fa9-b47e-a9f5e9dfb3a2"
      },
      "execution_count": 50,
      "outputs": [
        {
          "output_type": "stream",
          "name": "stdout",
          "text": [
            "(c) Highest Number of Housing Units:\n",
            "\n",
            "\n",
            "                              Year      Value\n",
            "Vacant Housing Units          2008      4483\n",
            "Occupied Housing Units        2014      46295\n"
          ]
        }
      ]
    },
    {
      "cell_type": "code",
      "source": [
        "from scipy.stats import hmean\n",
        "\n",
        "# Filter the data for \"Total Housing Units\"\n",
        "total_housing_units = df[df['title_field'] == 'Total Housing Units'].sort_values('year')\n",
        "\n",
        "# Calculate the harmonic mean of the total housing units\n",
        "harmonic_mean = hmean(total_housing_units['value'])\n",
        "print(\"(d) Harmonic Mean of Total Housing Units:\")\n",
        "print(\"\\n\")\n",
        "print(\"Harmonic Mean of Total Housing Units:\", harmonic_mean)\n"
      ],
      "metadata": {
        "colab": {
          "base_uri": "https://localhost:8080/"
        },
        "id": "SWtXCo3YF04h",
        "outputId": "0da819cb-ca0a-4c49-f9fe-37769a07fad3"
      },
      "execution_count": 52,
      "outputs": [
        {
          "output_type": "stream",
          "name": "stdout",
          "text": [
            "(d) Harmonic Mean of Total Housing Units:\n",
            "\n",
            "\n",
            "Harmonic Mean of Total Housing Units: 44398.28543969185\n"
          ]
        }
      ]
    },
    {
      "cell_type": "markdown",
      "source": [
        "# Mandatory Question\n",
        "\n",
        "Provide your thoughts on the assignment. What did you find challenging, and what aspects did you enjoy? Your opinion on the provided time to complete the assignment. Share any suggestions for improvement. Your feedback will be valuable for enhancing the learning experience."
      ],
      "metadata": {
        "id": "q8BFCvWp32cf"
      }
    },
    {
      "cell_type": "code",
      "source": [
        "print('This task taught me much, particularly when it came to applying concepts to real-world data. One of my challenges was working with the data collection and making sure that any edge cases, including handling various data types or missing numbers, were handled effectively. I liked seeking solutions to issues, particularly when doing so required me to troubleshoot errors and improve my approach. Although there was enough time for work, time management was still important, especially when balancing other tasks. No suggestions.')\n",
        "\n",
        "\n"
      ],
      "metadata": {
        "id": "_e557s2w4BpK",
        "colab": {
          "base_uri": "https://localhost:8080/"
        },
        "outputId": "94683ca6-66ea-4d3b-dd3a-f1fa8bd935f1"
      },
      "execution_count": 57,
      "outputs": [
        {
          "output_type": "stream",
          "name": "stdout",
          "text": [
            "This task taught me much, particularly when it came to applying concepts to real-world data. One of my challenges was working with the data collection and making sure that any edge cases, including handling various data types or missing numbers, were handled effectively. I liked seeking solutions to issues, particularly when doing so required me to troubleshoot errors and improve my approach. Although there was enough time for work, time management was still important, especially when balancing other tasks. No suggestions.\n"
          ]
        }
      ]
    }
  ],
  "metadata": {
    "colab": {
      "provenance": [],
      "toc_visible": true,
      "include_colab_link": true
    },
    "kernelspec": {
      "display_name": "Python 3 (ipykernel)",
      "language": "python",
      "name": "python3"
    },
    "language_info": {
      "codemirror_mode": {
        "name": "ipython",
        "version": 3
      },
      "file_extension": ".py",
      "mimetype": "text/x-python",
      "name": "python",
      "nbconvert_exporter": "python",
      "pygments_lexer": "ipython3",
      "version": "3.9.12"
    }
  },
  "nbformat": 4,
  "nbformat_minor": 0
}