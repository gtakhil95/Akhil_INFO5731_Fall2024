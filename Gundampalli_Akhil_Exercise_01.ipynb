{
  "cells": [
    {
      "cell_type": "markdown",
      "metadata": {
        "id": "view-in-github",
        "colab_type": "text"
      },
      "source": [
        "<a href=\"https://colab.research.google.com/github/gtakhil95/Akhil_INFO5731_Fall2024/blob/main/Gundampalli_Akhil_Exercise_01.ipynb\" target=\"_parent\"><img src=\"https://colab.research.google.com/assets/colab-badge.svg\" alt=\"Open In Colab\"/></a>"
      ]
    },
    {
      "cell_type": "markdown",
      "metadata": {
        "id": "DymRJbxDBCnf"
      },
      "source": [
        "# **INFO5731 Exercise 1**\n",
        "\n",
        "This exercise covers a variety of fundamental concepts in Python and is designed to help students improve their coding skills and problem-solving abilities.\n",
        "\n",
        "**Expectations**:\n",
        "*   Students are expected to complete the exercise during lecture period to meet the active participation criteria of the course.\n",
        "*   Use the provided .*ipynb* document to write your code & respond to the questions. Avoid generating a new file.\n",
        "*   Write complete answers and run all the cells before submission.\n",
        "*   Make sure the submission is \"clean\"; *i.e.*, no unnecessary code cells.\n",
        "*   Once finished, allow shared rights from top right corner (*see Canvas for details*).\n",
        "\n",
        "**Total points**: 40\n",
        "\n",
        "**Deadline**: This in-class exercise is due at the end of the day tomorrow, at 11:59 PM.\n",
        "\n",
        "**Late submissions cannot be considered, and no requests will be answered. Manage your time accordingly.**\n"
      ]
    },
    {
      "cell_type": "markdown",
      "source": [
        "## Question 1\n",
        "Write a Python program that  prompts the user to input the length and width of a rectangle, and then calculates and displays the area of the rectangle."
      ],
      "metadata": {
        "id": "FBKvD6O_TY6e"
      }
    },
    {
      "cell_type": "code",
      "source": [
        "length = float(input(\"Enter the length of the rectangle: \"))\n",
        "\n",
        "width = float(input(\"Enter the width of the rectangle: \"))\n",
        "\n",
        "area = length * width\n",
        "\n",
        "print(\"The area of the rectangle is:\", area)\n"
      ],
      "metadata": {
        "id": "cikVKDXdTbzE",
        "colab": {
          "base_uri": "https://localhost:8080/"
        },
        "outputId": "6dfe604f-7d55-4d35-a916-7bb47962ceb4"
      },
      "execution_count": 1,
      "outputs": [
        {
          "output_type": "stream",
          "name": "stdout",
          "text": [
            "Enter the length of the rectangle: 11.5\n",
            "Enter the width of the rectangle: 4.5\n",
            "The area of the rectangle is: 51.75\n"
          ]
        }
      ]
    },
    {
      "cell_type": "markdown",
      "source": [
        "## Question 2\n",
        "Create a Python program that interactively takes two numerical inputs from the user and swaps their values without utilizing an extra variable."
      ],
      "metadata": {
        "id": "E9RqrlwdTfvl"
      }
    },
    {
      "cell_type": "code",
      "source": [
        "a = int(input(\"Enter the first number (a): \"))\n",
        "b = int(input(\"Enter the second number (b): \"))\n",
        "\n",
        "a = a + b\n",
        "b = a - b\n",
        "a = a - b\n",
        "\n",
        "print(\"After swapping:\")\n",
        "print(f\"First number (a): {a}\")\n",
        "print(f\"Second number (b): {b}\")\n"
      ],
      "metadata": {
        "id": "4XvRknixTh1g",
        "colab": {
          "base_uri": "https://localhost:8080/"
        },
        "outputId": "6e6d25c0-3b4d-40a1-d6f2-818fa960765a"
      },
      "execution_count": 2,
      "outputs": [
        {
          "output_type": "stream",
          "name": "stdout",
          "text": [
            "Enter the first number (a): 8\n",
            "Enter the second number (b): 11\n",
            "After swapping:\n",
            "First number (a): 11\n",
            "Second number (b): 8\n"
          ]
        }
      ]
    },
    {
      "cell_type": "markdown",
      "metadata": {
        "id": "03jb4GZsBkBS"
      },
      "source": [
        "## Question 3\n",
        "Write a Python script to determine and print the length of a user-input string."
      ]
    },
    {
      "cell_type": "code",
      "execution_count": 3,
      "metadata": {
        "id": "YaGLbSHHB8Ej",
        "colab": {
          "base_uri": "https://localhost:8080/"
        },
        "outputId": "891e6b3a-7e79-40ca-d1a3-ccc692947d1c"
      },
      "outputs": [
        {
          "output_type": "stream",
          "name": "stdout",
          "text": [
            "Please enter a string: akhil\n",
            "The length of the entered string is: 5\n"
          ]
        }
      ],
      "source": [
        "user_input = input(\"Please enter a string: \")\n",
        "\n",
        "string_length = len(user_input)\n",
        "\n",
        "print(f\"The length of the entered string is: {string_length}\")\n",
        "\n"
      ]
    },
    {
      "cell_type": "markdown",
      "metadata": {
        "id": "jJDe71iLB616"
      },
      "source": [
        "## Question 4\n",
        "Construct a Python program that counts and displays the occurrences of each character in a given string.\n",
        "\n",
        "Sample String: 'openai.ai',\n",
        "\n",
        "Expected Result: {'a': 2, 'i': 2, '.': 1, 'o': 1, 'p': 1, 'e': 1, 'n': 1}"
      ]
    },
    {
      "cell_type": "code",
      "execution_count": 8,
      "metadata": {
        "id": "MtKskTzbCLaU",
        "colab": {
          "base_uri": "https://localhost:8080/"
        },
        "outputId": "233ea380-7104-48ef-c553-c4000fc55d39"
      },
      "outputs": [
        {
          "output_type": "stream",
          "name": "stdout",
          "text": [
            "{'r': 2, 'e': 3, 'm': 3, 'b': 1, '.': 1, 'c': 1, 'o': 1}\n"
          ]
        }
      ],
      "source": [
        "def count_characters(s):\n",
        "\n",
        "    char_count = {}\n",
        "\n",
        "    for char in s:\n",
        "\n",
        "        if char in char_count:\n",
        "            char_count[char] += 1\n",
        "\n",
        "        else:\n",
        "            char_count[char] = 1\n",
        "\n",
        "    return char_count\n",
        "\n",
        "sample_string = 'remember.com'\n",
        "\n",
        "result = count_characters(sample_string)\n",
        "print(result)\n"
      ]
    },
    {
      "cell_type": "markdown",
      "metadata": {
        "id": "55W9AMdXCSpV"
      },
      "source": [
        "## Question 5\n",
        "Design a Python code to calculate the sum of all elements in a user-provided list."
      ]
    },
    {
      "cell_type": "code",
      "execution_count": 9,
      "metadata": {
        "id": "I57NXsauCec2",
        "colab": {
          "base_uri": "https://localhost:8080/"
        },
        "outputId": "18db9677-74fd-4877-c765-708dc2fca1f6"
      },
      "outputs": [
        {
          "output_type": "stream",
          "name": "stdout",
          "text": [
            "Enter a list of numbers separated by spaces: 12 39 30 01 81\n",
            "The sum of all elements in the list is: 163\n"
          ]
        }
      ],
      "source": [
        "user_input = input(\"Enter a list of numbers separated by spaces: \")\n",
        "\n",
        "numbers = list(map(int, user_input.split()))\n",
        "\n",
        "total_sum = sum(numbers)\n",
        "\n",
        "print(f\"The sum of all elements in the list is: {total_sum}\")\n",
        "\n"
      ]
    },
    {
      "cell_type": "markdown",
      "metadata": {
        "id": "4ulBZ6yhCi9F"
      },
      "source": [
        "## Question 6\n",
        "Write a Python program that modifies a given string by replacing all occurrences of its first character with '$', excluding the first character itself.\n",
        "\n",
        "\n",
        "Sample String : 'restart‘\n",
        "Expected Result : 'resta\\$t'"
      ]
    },
    {
      "cell_type": "code",
      "execution_count": 11,
      "metadata": {
        "id": "Fj0XhwbBCw2o",
        "colab": {
          "base_uri": "https://localhost:8080/"
        },
        "outputId": "40dcbab9-e8fb-4cbe-a57a-a768efbab017"
      },
      "outputs": [
        {
          "output_type": "stream",
          "name": "stdout",
          "text": [
            "resta$t\n"
          ]
        }
      ],
      "source": [
        "def replace_first_char(s):\n",
        "    first_char = s[0]\n",
        "    modified_string = first_char + s[1:].replace(first_char, '$')\n",
        "    return modified_string\n",
        "\n",
        "sample_string = 'restart'\n",
        "result = replace_first_char(sample_string)\n",
        "print(result)\n",
        "\n"
      ]
    },
    {
      "cell_type": "markdown",
      "source": [
        "## Question 7\n",
        "Write a Python program using a while loop to compute the factorial of a user-supplied number."
      ],
      "metadata": {
        "id": "qVXA3q7ET5JI"
      }
    },
    {
      "cell_type": "code",
      "source": [
        "number = int(input(\"Enter a number to calculate its factorial: \"))\n",
        "\n",
        "factorial = 1\n",
        "i = 1\n",
        "\n",
        "while i <= number:\n",
        "    factorial *= i\n",
        "    i += 1\n",
        "\n",
        "print(f\"The factorial of {number} is {factorial}\")\n"
      ],
      "metadata": {
        "id": "Lbt7R6UkT7BA",
        "colab": {
          "base_uri": "https://localhost:8080/"
        },
        "outputId": "d2d0b63c-e3a0-4872-e3bb-82bdfaa1b9fb"
      },
      "execution_count": 12,
      "outputs": [
        {
          "output_type": "stream",
          "name": "stdout",
          "text": [
            "Enter a number to calculate its factorial: 8\n",
            "The factorial of 8 is 40320\n"
          ]
        }
      ]
    },
    {
      "cell_type": "markdown",
      "source": [
        "## Question 8\n",
        "Create a program that accepts a list of numbers as input and outputs a new list containing only the even numbers."
      ],
      "metadata": {
        "id": "6YfbzXMNT--R"
      }
    },
    {
      "cell_type": "code",
      "source": [
        "def filter_even_numbers(numbers):\n",
        "    even_numbers = [num for num in numbers if num % 2 == 0]\n",
        "    return even_numbers\n",
        "\n",
        "input_list = list(map(int, input(\"Enter a list of numbers separated by spaces: \").split()))\n",
        "output_list = filter_even_numbers(input_list)\n",
        "print(\"Even numbers from the list:\", output_list)\n"
      ],
      "metadata": {
        "id": "54q7wMQPUAKu",
        "colab": {
          "base_uri": "https://localhost:8080/"
        },
        "outputId": "483244ba-d635-416b-839e-dd38d160b01b"
      },
      "execution_count": 13,
      "outputs": [
        {
          "output_type": "stream",
          "name": "stdout",
          "text": [
            "Enter a list of numbers separated by spaces: 2 34 55 98 38 8 94\n",
            "Even numbers from the list: [2, 34, 98, 38, 8, 94]\n"
          ]
        }
      ]
    },
    {
      "cell_type": "markdown",
      "metadata": {
        "id": "_bIP7s1MCzue"
      },
      "source": [
        "## Question 9\n",
        "Design a Python function to check if a number is prime.\n"
      ]
    },
    {
      "cell_type": "code",
      "execution_count": 15,
      "metadata": {
        "id": "w79QilHXD3Mg",
        "colab": {
          "base_uri": "https://localhost:8080/"
        },
        "outputId": "31602994-7930-4bbc-8cc2-5c636bce7f92"
      },
      "outputs": [
        {
          "output_type": "stream",
          "name": "stdout",
          "text": [
            "67 is a prime number.\n"
          ]
        }
      ],
      "source": [
        "def is_prime(number):\n",
        "\n",
        "    if number <= 1:\n",
        "        return False\n",
        "\n",
        "    if number <= 3:\n",
        "        return True\n",
        "\n",
        "    if number % 2 == 0 or number % 3 == 0:\n",
        "        return False\n",
        "\n",
        "\n",
        "    i = 5\n",
        "    while i * i <= number:\n",
        "        if number % i == 0 or number % (i + 2) == 0:\n",
        "            return False\n",
        "        i += 6\n",
        "\n",
        "    return True\n",
        "\n",
        "\n",
        "num = 67\n",
        "if is_prime(num):\n",
        "    print(f\"{num} is a prime number.\")\n",
        "else:\n",
        "    print(f\"{num} is not a prime number.\")\n",
        "\n"
      ]
    },
    {
      "cell_type": "markdown",
      "metadata": {
        "id": "xCa2bK9aD4Q3"
      },
      "source": [
        "## Question 10\n",
        "Write a Python program to concatenate following dictionaries to create a new one.\n",
        "\n",
        "Sample Dictionary : dic1={1:10, 2:20}, dic2={3:30, 4:40}, dic3={5:50,6:60},\n",
        "\n",
        "Expected Result : {1: 10, 2: 20, 3: 30, 4: 40, 5: 50, 6: 60}\n"
      ]
    },
    {
      "cell_type": "code",
      "execution_count": 16,
      "metadata": {
        "id": "_z4aLqAbEET1",
        "colab": {
          "base_uri": "https://localhost:8080/"
        },
        "outputId": "b83f0056-3be5-460a-cc66-4920d1432c1c"
      },
      "outputs": [
        {
          "output_type": "stream",
          "name": "stdout",
          "text": [
            "{1: 10, 2: 20, 3: 30, 4: 40, 5: 50, 6: 60}\n"
          ]
        }
      ],
      "source": [
        "dic1 = {1: 10, 2: 20}\n",
        "dic2 = {3: 30, 4: 40}\n",
        "dic3 = {5: 50, 6: 60}\n",
        "\n",
        "result = {**dic1, **dic2, **dic3}\n",
        "\n",
        "print(result)\n",
        "\n"
      ]
    },
    {
      "cell_type": "markdown",
      "source": [
        "## Question 11\n",
        "Design a Python function that takes a tuple of integers as input and returns the largest and smallest elements."
      ],
      "metadata": {
        "id": "bkyZ2xSZUOst"
      }
    },
    {
      "cell_type": "code",
      "source": [
        "def find_min_max(numbers):\n",
        "\n",
        "    if not numbers:\n",
        "        return None\n",
        "\n",
        "    smallest = min(numbers)\n",
        "    largest = max(numbers)\n",
        "\n",
        "    return smallest, largest\n",
        "\n",
        "numbers = (13, 1, 44, 9, 3, 6)\n",
        "min_val, max_val = find_min_max(numbers)\n",
        "print(f\"Smallest: {min_val}, Largest: {max_val}\")\n"
      ],
      "metadata": {
        "id": "3FdLRBKOUQEd",
        "colab": {
          "base_uri": "https://localhost:8080/"
        },
        "outputId": "9d7c5463-1c2b-4e4e-e90d-7075317bab69"
      },
      "execution_count": 18,
      "outputs": [
        {
          "output_type": "stream",
          "name": "stdout",
          "text": [
            "Smallest: 1, Largest: 44\n"
          ]
        }
      ]
    },
    {
      "cell_type": "markdown",
      "source": [
        "## Question 12\n",
        "Write a Python program that counts the frequency of each character in a given string and stores it in a dictionary."
      ],
      "metadata": {
        "id": "O0TVi3gKUTpp"
      }
    },
    {
      "cell_type": "code",
      "source": [
        "def char_frequency(input_string):\n",
        "    frequency_dict = {}\n",
        "    for char in input_string:\n",
        "        if char in frequency_dict:\n",
        "            frequency_dict[char] += 1\n",
        "        else:\n",
        "            frequency_dict[char] = 1\n",
        "    return frequency_dict\n",
        "\n",
        "input_string = \"mountain everest\"\n",
        "result = char_frequency(input_string)\n",
        "print(result)\n"
      ],
      "metadata": {
        "id": "lAtfSfZXUU-h",
        "colab": {
          "base_uri": "https://localhost:8080/"
        },
        "outputId": "79a14959-91b9-430d-a16a-8143ef2fccf7"
      },
      "execution_count": 20,
      "outputs": [
        {
          "output_type": "stream",
          "name": "stdout",
          "text": [
            "{'m': 1, 'o': 1, 'u': 1, 'n': 2, 't': 2, 'a': 1, 'i': 1, ' ': 1, 'e': 3, 'v': 1, 'r': 1, 's': 1}\n"
          ]
        }
      ]
    },
    {
      "cell_type": "markdown",
      "metadata": {
        "id": "0v48Vqa7FrQh"
      },
      "source": [
        "## Question 13\n",
        "Implement a Python script to identify duplicate elements in a provided array of integers. Return -1 if there are no duplicates."
      ]
    },
    {
      "cell_type": "code",
      "execution_count": 22,
      "metadata": {
        "id": "7WEmgq-DF2P1",
        "colab": {
          "base_uri": "https://localhost:8080/"
        },
        "outputId": "294a7fd1-6645-428f-f533-0f21de08cd02"
      },
      "outputs": [
        {
          "output_type": "stream",
          "name": "stdout",
          "text": [
            "2\n"
          ]
        }
      ],
      "source": [
        "def find_duplicates(arr):\n",
        "\n",
        "    seen = set()\n",
        "\n",
        "    for num in arr:\n",
        "\n",
        "        if num in seen:\n",
        "            return num\n",
        "\n",
        "        seen.add(num)\n",
        "\n",
        "    return -1\n",
        "\n",
        "array = [1, 2, 3, 4, 2, 5]\n",
        "result = find_duplicates(array)\n",
        "print(result)\n",
        "\n"
      ]
    },
    {
      "cell_type": "markdown",
      "metadata": {
        "id": "vD5PYLMuGga_"
      },
      "source": [
        "## Question 14\n",
        "Write a Python script to find the common elements between two lists."
      ]
    },
    {
      "cell_type": "code",
      "execution_count": 27,
      "metadata": {
        "id": "t0D5kdJUGjjw",
        "colab": {
          "base_uri": "https://localhost:8080/"
        },
        "outputId": "468122e4-1b88-4826-8dd2-b1c7becda8d2"
      },
      "outputs": [
        {
          "output_type": "stream",
          "name": "stdout",
          "text": [
            "Common elements: [8, 4, 5]\n"
          ]
        }
      ],
      "source": [
        "list1 = [1, 8, 2, 4, 5]\n",
        "list2 = [4, 5, 6, 7, 8]\n",
        "\n",
        "common_elements = list(set(list1) & set(list2))\n",
        "\n",
        "print(\"Common elements:\", common_elements)\n",
        "\n"
      ]
    },
    {
      "cell_type": "markdown",
      "metadata": {
        "id": "uHkd-y5VhVWC"
      },
      "source": [
        "## Question 15\n",
        "Write a Python program to randomly divide the students in this class into maximum of eight groups for term projects, each group should have at least 4 students but no more than 6 students (including 6).\n",
        "\n",
        "Here is the students list:\n",
        "\n",
        "student_list_spring_2024=[rb0846,\n",
        "ac1964,\n",
        "hc0612,\n",
        "md0912,\n",
        "ad1198,\n",
        "md0894,\n",
        "md0825,\n",
        "vg0598,\n",
        "vg0433,\n",
        "mh1068,\n",
        "yj0173,\n",
        "pk0553,\n",
        "tk0411,\n",
        "srk0204,\n",
        "sk2922,\n",
        "sk2936,\n",
        "mk1302,\n",
        "mk1317,\n",
        "tk0412,\n",
        "vk0656,\n",
        "sm2985,\n",
        "mm2372,\n",
        "un0045,\n",
        "an0892,\n",
        "sn0913,\n",
        "gp0252,\n",
        "ap1484,\n",
        "mr1765,\n",
        "sr1385,\n",
        "sr1335,\n",
        "hs0665,\n",
        "ms2060,\n",
        "gt0217,\n",
        "nt0385,\n",
        "tv0186,\n",
        "sv1394,\n",
        "sv1752,\n",
        "sv1555,\n",
        "sy0594\n",
        "]\n"
      ]
    },
    {
      "cell_type": "code",
      "execution_count": 28,
      "metadata": {
        "id": "3iGbmcOBhTwy",
        "colab": {
          "base_uri": "https://localhost:8080/"
        },
        "outputId": "423180c3-337c-40f1-f814-7a64f60e3533"
      },
      "outputs": [
        {
          "output_type": "stream",
          "name": "stdout",
          "text": [
            "Group 1: ['sk2936', 'ap1484', 'gt0217', 'vg0433']\n",
            "Group 2: ['un0045', 'md0894', 'sr1385', 'sm2985', 'mm2372']\n",
            "Group 3: ['tk0412', 'md0825', 'sk2922', 'sv1555', 'tk0411']\n",
            "Group 4: ['ac1964', 'sy0594', 'yj0173', 'mh1068']\n",
            "Group 5: ['sv1394', 'md0912', 'hs0665', 'an0892']\n",
            "Group 6: ['srk0204', 'sv1752', 'rb0846', 'mk1302', 'gp0252']\n",
            "Group 7: ['ms2060', 'nt0385', 'vk0656', 'mk1317', 'sn0913']\n",
            "Group 8: ['sr1335', 'pk0553', 'vg0598', 'mr1765', 'ad1198', 'hc0612']\n",
            "\n",
            "Final Groups:\n",
            "Group 1 (5 students): ['sk2936', 'ap1484', 'gt0217', 'vg0433', 'tv0186']\n",
            "Group 2 (5 students): ['un0045', 'md0894', 'sr1385', 'sm2985', 'mm2372']\n",
            "Group 3 (5 students): ['tk0412', 'md0825', 'sk2922', 'sv1555', 'tk0411']\n",
            "Group 4 (4 students): ['ac1964', 'sy0594', 'yj0173', 'mh1068']\n",
            "Group 5 (4 students): ['sv1394', 'md0912', 'hs0665', 'an0892']\n",
            "Group 6 (5 students): ['srk0204', 'sv1752', 'rb0846', 'mk1302', 'gp0252']\n",
            "Group 7 (5 students): ['ms2060', 'nt0385', 'vk0656', 'mk1317', 'sn0913']\n",
            "Group 8 (6 students): ['sr1335', 'pk0553', 'vg0598', 'mr1765', 'ad1198', 'hc0612']\n"
          ]
        }
      ],
      "source": [
        "import random\n",
        "\n",
        "student_list_spring_2024 = [\n",
        "    \"rb0846\", \"ac1964\", \"hc0612\", \"md0912\", \"ad1198\", \"md0894\", \"md0825\",\n",
        "    \"vg0598\", \"vg0433\", \"mh1068\", \"yj0173\", \"pk0553\", \"tk0411\", \"srk0204\",\n",
        "    \"sk2922\", \"sk2936\", \"mk1302\", \"mk1317\", \"tk0412\", \"vk0656\", \"sm2985\",\n",
        "    \"mm2372\", \"un0045\", \"an0892\", \"sn0913\", \"gp0252\", \"ap1484\", \"mr1765\",\n",
        "    \"sr1385\", \"sr1335\", \"hs0665\", \"ms2060\", \"gt0217\", \"nt0385\", \"tv0186\",\n",
        "    \"sv1394\", \"sv1752\", \"sv1555\", \"sy0594\"\n",
        "]\n",
        "\n",
        "random.shuffle(student_list_spring_2024)\n",
        "\n",
        "num_students = len(student_list_spring_2024)\n",
        "min_group_size = 4\n",
        "max_group_size = 6\n",
        "max_groups = 8\n",
        "\n",
        "groups = []\n",
        "\n",
        "while len(student_list_spring_2024) > 0:\n",
        "\n",
        "    num_groups = min(len(student_list_spring_2024) // min_group_size, max_groups - len(groups))\n",
        "\n",
        "    if num_groups <= 0:\n",
        "        break\n",
        "\n",
        "    group_size = random.randint(min_group_size, min(max_group_size, len(student_list_spring_2024) // num_groups))\n",
        "\n",
        "    group = student_list_spring_2024[:group_size]\n",
        "    groups.append(group)\n",
        "\n",
        "    student_list_spring_2024 = student_list_spring_2024[group_size:]\n",
        "\n",
        "for i, group in enumerate(groups):\n",
        "    print(f\"Group {i+1}: {group}\")\n",
        "\n",
        "if len(student_list_spring_2024) > 0:\n",
        "    for i in range(len(student_list_spring_2024)):\n",
        "        groups[i % len(groups)].append(student_list_spring_2024[i])\n",
        "\n",
        "print(\"\\nFinal Groups:\")\n",
        "for i, group in enumerate(groups):\n",
        "    print(f\"Group {i+1} ({len(group)} students): {group}\")\n"
      ]
    },
    {
      "cell_type": "markdown",
      "metadata": {
        "id": "fmZ9vX20Qs3d"
      },
      "source": [
        "## Question 16\n",
        "Create a program that takes a positive integer 'n' as input and prints the count of even numbers from 1 to 'n'. Optimize the loop using the continue statement."
      ]
    },
    {
      "cell_type": "code",
      "execution_count": 29,
      "metadata": {
        "id": "W8Jw6sWMQs3d",
        "colab": {
          "base_uri": "https://localhost:8080/"
        },
        "outputId": "755894e1-3496-466f-94bd-6bd9715948d1"
      },
      "outputs": [
        {
          "output_type": "stream",
          "name": "stdout",
          "text": [
            "Enter a positive integer: 76\n",
            "The count of even numbers from 1 to 76 is: 38\n"
          ]
        }
      ],
      "source": [
        "def count_even_numbers(n):\n",
        "    count = 0\n",
        "    for i in range(1, n + 1):\n",
        "        if i % 2 != 0:\n",
        "            continue\n",
        "        count += 1\n",
        "    print(\"The count of even numbers from 1 to\", n, \"is:\", count)\n",
        "\n",
        "n = int(input(\"Enter a positive integer: \"))\n",
        "\n",
        "count_even_numbers(n)\n",
        "\n"
      ]
    },
    {
      "cell_type": "markdown",
      "metadata": {
        "id": "hvq4APMhQs3d"
      },
      "source": [
        "## Question 17\n",
        "Develop a Python function called 'count_vowels' that takes a string as input and returns the count of vowels (both lowercase and uppercase) present in the string, ignoring spaces and non-alphabetic characters."
      ]
    },
    {
      "cell_type": "code",
      "execution_count": 31,
      "metadata": {
        "id": "ZnoxhSglQs3d",
        "colab": {
          "base_uri": "https://localhost:8080/"
        },
        "outputId": "39706524-0dd8-4160-a3a2-5e66ff207195"
      },
      "outputs": [
        {
          "output_type": "stream",
          "name": "stdout",
          "text": [
            "Number of vowels: 6\n"
          ]
        }
      ],
      "source": [
        "def count_vowels(input_string):\n",
        "\n",
        "    vowels = \"aeiouAEIOU\"\n",
        "\n",
        "    count = 0\n",
        "\n",
        "    for char in input_string:\n",
        "\n",
        "        if char in vowels:\n",
        "            count += 1\n",
        "\n",
        "    return count\n",
        "\n",
        "input_string = \"Akhil Gundampalli\"\n",
        "print(\"Number of vowels:\", count_vowels(input_string))\n",
        "\n"
      ]
    },
    {
      "cell_type": "markdown",
      "source": [
        "## Question 18\n",
        "Create a custom exception named ValueTooSmallError in Python. Write a program that takes user input for an age, and if the entered age is less than 18, raise the ValueTooSmallError with an appropriate error message."
      ],
      "metadata": {
        "id": "55FWoSJPVVM6"
      }
    },
    {
      "cell_type": "code",
      "source": [
        "class ValueTooSmallError(Exception):\n",
        "    \"\"\"Exception raised when the input value is too small.\"\"\"\n",
        "    def __init__(self, message=\"Age is too small. You must be at least 18 years old.\"):\n",
        "        self.message = message\n",
        "        super().__init__(self.message)\n",
        "\n",
        "def check_age(age):\n",
        "    if age < 18:\n",
        "        raise ValueTooSmallError()\n",
        "\n",
        "try:\n",
        "    age = int(input(\"Please enter your age: \"))\n",
        "    check_age(age)\n",
        "    print(\"You are eligible.\")\n",
        "except ValueTooSmallError as e:\n",
        "    print(e)\n",
        "except ValueError:\n",
        "    print(\"Please enter a valid integer for age.\")\n"
      ],
      "metadata": {
        "id": "hwtr1wZmVX5A",
        "colab": {
          "base_uri": "https://localhost:8080/"
        },
        "outputId": "f25f469d-73b0-4693-eff5-d88e6c6af88e"
      },
      "execution_count": 32,
      "outputs": [
        {
          "output_type": "stream",
          "name": "stdout",
          "text": [
            "Please enter your age: 29\n",
            "You are eligible.\n"
          ]
        }
      ]
    },
    {
      "cell_type": "markdown",
      "source": [
        "## Question 19\n",
        "Develop a script that reverses a given string without using built-in reverse functions."
      ],
      "metadata": {
        "id": "Q9ecagcaVazW"
      }
    },
    {
      "cell_type": "code",
      "source": [
        "def reverse_string(input_string):\n",
        "\n",
        "    reversed_string = \"\"\n",
        "\n",
        "    for i in range(len(input_string) - 1, -1, -1):\n",
        "        reversed_string += input_string[i]\n",
        "\n",
        "    return reversed_string\n",
        "\n",
        "original_string = \"Akhil.Gundampalli\"\n",
        "reversed_result = reverse_string(original_string)\n",
        "print(\"Original String:\", original_string)\n",
        "print(\"Reversed String:\", reversed_result)\n"
      ],
      "metadata": {
        "id": "gycgckoAVZjR",
        "colab": {
          "base_uri": "https://localhost:8080/"
        },
        "outputId": "7ab9a7b7-dcef-4e2a-ab15-c16acd064984"
      },
      "execution_count": 34,
      "outputs": [
        {
          "output_type": "stream",
          "name": "stdout",
          "text": [
            "Original String: Akhil.Gundampalli\n",
            "Reversed String: illapmadnuG.lihkA\n"
          ]
        }
      ]
    },
    {
      "cell_type": "markdown",
      "source": [
        "## Question 20\n",
        "Implement a Python script to generate a random password of a specified length."
      ],
      "metadata": {
        "id": "ZFG6RibifMLu"
      }
    },
    {
      "cell_type": "code",
      "source": [
        "import random\n",
        "import string\n",
        "\n",
        "def generate_password(length):\n",
        "    if length < 1:\n",
        "        return \"Password length must be at least 1\"\n",
        "\n",
        "    characters = string.ascii_letters + string.digits + string.punctuation\n",
        "\n",
        "    password = ''.join(random.choices(characters, k=length))\n",
        "\n",
        "    return password\n",
        "\n",
        "password_length = int(input(\"Enter the desired password length: \"))\n",
        "print(f\"Generated password: {generate_password(password_length)}\")\n"
      ],
      "metadata": {
        "id": "BFVrkEi9fNiD",
        "colab": {
          "base_uri": "https://localhost:8080/"
        },
        "outputId": "43948ba2-0c20-4b94-82ac-c02d8eef880a"
      },
      "execution_count": 35,
      "outputs": [
        {
          "output_type": "stream",
          "name": "stdout",
          "text": [
            "Enter the desired password length: 9\n",
            "Generated password: RDY*TwhoV\n"
          ]
        }
      ]
    },
    {
      "cell_type": "markdown",
      "source": [
        "# Try these questions"
      ],
      "metadata": {
        "id": "6SmvS7nSfbj8"
      }
    },
    {
      "cell_type": "markdown",
      "source": [
        "(21) Define a base class called 'Vehicle' with attributes make and model. Create a derived class Car that inherits from Vehicle and has an additional attribute 'num_doors'. Demonstrate an example of creating an instance of the 'Car' class and accessing its attributes."
      ],
      "metadata": {
        "id": "cboAr5pEWUf5"
      }
    },
    {
      "cell_type": "code",
      "source": [
        "class Vehicle:\n",
        "    def __init__(self, make, model):\n",
        "        self.make = make\n",
        "        self.model = model\n",
        "\n",
        "class Car(Vehicle):\n",
        "    def __init__(self, make, model, num_doors):\n",
        "        super().__init__(make, model)\n",
        "        self.num_doors = num_doors\n",
        "\n",
        "my_car = Car(\"Toyota\", \"Camry\", 4)\n",
        "\n",
        "print(my_car.make)\n",
        "print(my_car.model)\n",
        "print(my_car.num_doors)"
      ],
      "metadata": {
        "id": "phs9gciMWWAW",
        "colab": {
          "base_uri": "https://localhost:8080/"
        },
        "outputId": "9e3695fa-b504-44cd-bdcf-172ec1b5a7ce"
      },
      "execution_count": 36,
      "outputs": [
        {
          "output_type": "stream",
          "name": "stdout",
          "text": [
            "Toyota\n",
            "Camry\n",
            "4\n"
          ]
        }
      ]
    },
    {
      "cell_type": "markdown",
      "source": [
        "(22) Create a class called 'Shape' with a method calculate_area(). Implement two derived classes 'Circle' and 'Rectangle' that inherit from Shape and override the calculate_area() method. Demonstrate polymorphism by creating instances of both derived classes and calling the calculate_area() method."
      ],
      "metadata": {
        "id": "J8HHefNtePwd"
      }
    },
    {
      "cell_type": "code",
      "source": [
        "import math\n",
        "\n",
        "class Shape:\n",
        "    def calculate_area(self):\n",
        "        raise NotImplementedError(\"calculate_area() must be implemented in derived classes\")\n",
        "\n",
        "class Circle(Shape):\n",
        "    def __init__(self, radius):\n",
        "        self.radius = radius\n",
        "\n",
        "    def calculate_area(self):\n",
        "        return math.pi * self.radius ** 2\n",
        "\n",
        "class Rectangle(Shape):\n",
        "    def __init__(self, length, width):\n",
        "        self.length = length\n",
        "        self.width = width\n",
        "\n",
        "    def calculate_area(self):\n",
        "        return self.length * self.width\n",
        "\n",
        "circle = Circle(5)\n",
        "rectangle = Rectangle(4, 3)\n",
        "\n",
        "print(\"Area of the circle:\", circle.calculate_area())\n",
        "print(\"Area of the rectangle:\", rectangle.calculate_area())"
      ],
      "metadata": {
        "id": "btnMmUZDeRhS",
        "colab": {
          "base_uri": "https://localhost:8080/"
        },
        "outputId": "5c5a7d68-dd86-4bcb-a337-bfc48666d6aa"
      },
      "execution_count": 37,
      "outputs": [
        {
          "output_type": "stream",
          "name": "stdout",
          "text": [
            "Area of the circle: 78.53981633974483\n",
            "Area of the rectangle: 12\n"
          ]
        }
      ]
    },
    {
      "cell_type": "markdown",
      "source": [
        "(23) Write a Python program that prompts the user to enter two numbers and perform a division operation. Handle exceptions for both zero division and invalid input (non-numeric input). Display appropriate error messages for each type of exception and ensure the program does not crash due to these errors."
      ],
      "metadata": {
        "id": "z0oqEAlTeMUS"
      }
    },
    {
      "cell_type": "code",
      "source": [
        "def divide_numbers():\n",
        "    try:\n",
        "        num1 = float(input(\"Enter the first number: \"))\n",
        "        num2 = float(input(\"Enter the second number: \"))\n",
        "\n",
        "        if num2 == 0:\n",
        "            raise ZeroDivisionError(\"Cannot divide by zero.\")\n",
        "\n",
        "        result = num1 / num2\n",
        "        print(\"The result is:\", result)\n",
        "\n",
        "    except ValueError:\n",
        "        print(\"Invalid input. Please enter valid numbers.\")\n",
        "    except ZeroDivisionError as e:\n",
        "        print(e)\n",
        "\n",
        "divide_numbers()"
      ],
      "metadata": {
        "id": "yjdc1zM1eMAs",
        "colab": {
          "base_uri": "https://localhost:8080/"
        },
        "outputId": "8657ce4e-5fdb-4529-dd0f-032fcd40b4cf"
      },
      "execution_count": 38,
      "outputs": [
        {
          "output_type": "stream",
          "name": "stdout",
          "text": [
            "Enter the first number: 44\n",
            "Enter the second number: 6\n",
            "The result is: 7.333333333333333\n"
          ]
        }
      ]
    },
    {
      "cell_type": "markdown",
      "source": [
        "# Mandatory Question"
      ],
      "metadata": {
        "id": "sZOhks1dXWEe"
      }
    },
    {
      "cell_type": "markdown",
      "source": [
        "**Important:**\n",
        "Reflecting on the first three lectures and the exercises you've completed, please provide feedback on your learning experience. Share your thoughts on whether the material covered was clear, the exercises were helpful, and if you feel more confident in applying Python programming concepts. Additionally, mention any specific areas where you would like more clarification or topics you would like to explore further in future lectures. Your feedback is valuable in shaping the course for an effective learning journey."
      ],
      "metadata": {
        "id": "eqmHVEwaWhbV"
      }
    },
    {
      "cell_type": "code",
      "source": [
        "'''\n",
        "I feel that the materials covered are a little clear and exercises are good as of now. I am not yet completely confident in applying Python and need to work more. I would want to learn more about the basics in future lectures.\n",
        "'''"
      ],
      "metadata": {
        "id": "akAVJn9YBTQT",
        "colab": {
          "base_uri": "https://localhost:8080/",
          "height": 53
        },
        "outputId": "c1db33cb-7b65-47f0-fba7-c8827d6b8abd"
      },
      "execution_count": 40,
      "outputs": [
        {
          "output_type": "execute_result",
          "data": {
            "text/plain": [
              "'\\nI feel that the materials covered are a little clear and exercises are good as of now. I am not yet completely confident in applying Python and need to work more. I would want to learn more about the basics in future lectures.\\n'"
            ],
            "application/vnd.google.colaboratory.intrinsic+json": {
              "type": "string"
            }
          },
          "metadata": {},
          "execution_count": 40
        }
      ]
    }
  ],
  "metadata": {
    "colab": {
      "provenance": [],
      "toc_visible": true,
      "include_colab_link": true
    },
    "kernelspec": {
      "display_name": "Python 3 (ipykernel)",
      "language": "python",
      "name": "python3"
    },
    "language_info": {
      "codemirror_mode": {
        "name": "ipython",
        "version": 3
      },
      "file_extension": ".py",
      "mimetype": "text/x-python",
      "name": "python",
      "nbconvert_exporter": "python",
      "pygments_lexer": "ipython3",
      "version": "3.9.12"
    }
  },
  "nbformat": 4,
  "nbformat_minor": 0
}